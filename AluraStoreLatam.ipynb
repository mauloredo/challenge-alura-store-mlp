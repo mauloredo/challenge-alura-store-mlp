{
  "nbformat": 4,
  "nbformat_minor": 0,
  "metadata": {
    "colab": {
      "provenance": []
    },
    "kernelspec": {
      "name": "python3",
      "display_name": "Python 3"
    },
    "language_info": {
      "name": "python"
    }
  },
  "cells": [
    {
      "cell_type": "markdown",
      "source": [
        "### Importación de datos\n",
        "\n"
      ],
      "metadata": {
        "id": "RhEdWd9YUR6H"
      }
    },
    {
      "cell_type": "code",
      "execution_count": 5,
      "metadata": {
        "colab": {
          "base_uri": "https://localhost:8080/"
        },
        "id": "T3EvaeQ_INIL",
        "outputId": "d0e4024e-5730-4066-f2d1-41983fb913dd"
      },
      "outputs": [
        {
          "output_type": "stream",
          "name": "stdout",
          "text": [
            "            Producto Categoría del Producto    Precio  Costo de envío  \\\n",
            "0  Asistente virtual           Electrónicos  164300.0          6900.0   \n",
            "1    Mesa de comedor                Muebles  192300.0          8400.0   \n",
            "2      Juego de mesa               Juguetes  209600.0         15900.0   \n",
            "3         Microondas      Electrodomésticos  757500.0         41000.0   \n",
            "4   Silla de oficina                Muebles  335200.0         20200.0   \n",
            "\n",
            "  Fecha de Compra         Vendedor Lugar de Compra  Calificación  \\\n",
            "0      16/01/2021      Pedro Gomez          Bogotá             4   \n",
            "1      18/05/2022  Beatriz Morales        Medellín             1   \n",
            "2      15/03/2021   Juan Fernandez       Cartagena             1   \n",
            "3      03/05/2022   Juan Fernandez            Cali             4   \n",
            "4      07/11/2020    Maria Alfonso        Medellín             5   \n",
            "\n",
            "       Método de pago  Cantidad de cuotas       lat       lon  \n",
            "0  Tarjeta de crédito                   8   4.60971 -74.08175  \n",
            "1  Tarjeta de crédito                   4   6.25184 -75.56359  \n",
            "2  Tarjeta de crédito                   1  10.39972 -75.51444  \n",
            "3               Nequi                   1   3.43722 -76.52250  \n",
            "4               Nequi                   1   6.25184 -75.56359  \n",
            "           Producto  Categoría del Producto    Precio  Costo de envío  \\\n",
            "0  Silla de oficina                 Muebles  283600.0         15300.0   \n",
            "1         Pandereta  Instrumentos musicales   76800.0          2300.0   \n",
            "2         Cama king                 Muebles  443300.0         23800.0   \n",
            "3         Cama king                 Muebles  906200.0         46400.0   \n",
            "4  Silla de oficina                 Muebles  397800.0         19400.0   \n",
            "\n",
            "  Fecha de Compra         Vendedor Lugar de Compra  Calificación  \\\n",
            "0      04/08/2021  Izabela de León        Medellín             1   \n",
            "1      26/11/2020   Blanca Ramirez        Medellín             3   \n",
            "2      22/10/2021  Izabela de León         Pereira             5   \n",
            "3      04/05/2022    Maria Alfonso            Cali             5   \n",
            "4      26/02/2022    Lucas Olivera          Bogotá             4   \n",
            "\n",
            "       Método de pago  Cantidad de cuotas      lat       lon  \n",
            "0               Nequi                   1  6.25184 -75.56359  \n",
            "1  Tarjeta de crédito                   4  6.25184 -75.56359  \n",
            "2  Tarjeta de crédito                  10  4.81333 -75.69611  \n",
            "3  Tarjeta de crédito                  10  3.43722 -76.52250  \n",
            "4  Tarjeta de crédito                   3  4.60971 -74.08175  \n",
            "            Producto  Categoría del Producto     Precio  Costo de envío  \\\n",
            "0   Secadora de ropa       Electrodomésticos  1285100.0         66600.0   \n",
            "1      Mesa de noche                 Muebles   290100.0         13600.0   \n",
            "2  Guitarra acústica  Instrumentos musicales   303500.0         17400.0   \n",
            "3  Balón de voleibol    Deportes y diversión    58800.0          3300.0   \n",
            "4            Armario                 Muebles   521100.0         25900.0   \n",
            "\n",
            "  Fecha de Compra        Vendedor Lugar de Compra  Calificación  \\\n",
            "0      17/12/2021   Camila Rivera     Santa Marta             4   \n",
            "1      10/02/2021   Maria Alfonso            Cali             3   \n",
            "2      22/01/2023   Lucas Olivera          Bogotá             5   \n",
            "3      22/03/2022     Pedro Gomez    Barranquilla             4   \n",
            "4      12/01/2022  Blanca Ramirez          Bogotá             1   \n",
            "\n",
            "       Método de pago  Cantidad de cuotas       lat       lon  \n",
            "0  Tarjeta de crédito                   4  11.24079 -74.19904  \n",
            "1  Tarjeta de crédito                   1   3.43722 -76.52250  \n",
            "2  Tarjeta de crédito                   3   4.60971 -74.08175  \n",
            "3  Tarjeta de crédito                   6  10.96854 -74.78132  \n",
            "4  Tarjeta de crédito                   1   4.60971 -74.08175  \n",
            "              Producto Categoría del Producto     Precio  Costo de envío  \\\n",
            "0         Lavavajillas      Electrodomésticos  1084800.0         56000.0   \n",
            "1             Cama box                Muebles   473800.0         25400.0   \n",
            "2  Balón de baloncesto   Deportes y diversión    23700.0             0.0   \n",
            "3  Modelado predictivo                 Libros    57700.0          1300.0   \n",
            "4          Auriculares           Electrónicos   138900.0          5600.0   \n",
            "\n",
            "  Fecha de Compra         Vendedor Lugar de Compra  Calificación  \\\n",
            "0      11/11/2022    Rafael Acosta          Bogotá             4   \n",
            "1      03/01/2020  Izabela de León          Cúcuta             5   \n",
            "2      25/12/2022    Maria Alfonso        Medellín             5   \n",
            "3      23/11/2021    Lucas Olivera        Medellín             3   \n",
            "4      25/04/2022   Blanca Ramirez          Bogotá             4   \n",
            "\n",
            "       Método de pago  Cantidad de cuotas      lat       lon  \n",
            "0  Tarjeta de crédito                   3  4.60971 -74.08175  \n",
            "1  Tarjeta de crédito                   2  7.89391 -72.50782  \n",
            "2               Nequi                   1  6.25184 -75.56359  \n",
            "3               Nequi                   1  6.25184 -75.56359  \n",
            "4  Tarjeta de crédito                   7  4.60971 -74.08175  \n"
          ]
        }
      ],
      "source": [
        "import pandas as pd\n",
        "\n",
        "url = \"https://raw.githubusercontent.com/alura-es-cursos/challenge1-data-science-latam/refs/heads/main/base-de-datos-challenge1-latam/tienda_1%20.csv\"\n",
        "url2 = \"https://raw.githubusercontent.com/alura-es-cursos/challenge1-data-science-latam/refs/heads/main/base-de-datos-challenge1-latam/tienda_2.csv\"\n",
        "url3 = \"https://raw.githubusercontent.com/alura-es-cursos/challenge1-data-science-latam/refs/heads/main/base-de-datos-challenge1-latam/tienda_3.csv\"\n",
        "url4 = \"https://raw.githubusercontent.com/alura-es-cursos/challenge1-data-science-latam/refs/heads/main/base-de-datos-challenge1-latam/tienda_4.csv\"\n",
        "\n",
        "tienda = pd.read_csv(url)\n",
        "tienda2 = pd.read_csv(url2)\n",
        "tienda3 = pd.read_csv(url3)\n",
        "tienda4 = pd.read_csv(url4)\n",
        "\n",
        "tienda.head()\n",
        "\n",
        "print(tienda.head())\n",
        "print(tienda2.head())\n",
        "print(tienda3.head())\n",
        "print(tienda4.head())"
      ]
    },
    {
      "cell_type": "code",
      "source": [],
      "metadata": {
        "id": "KVYwpI6ZQaE7"
      },
      "execution_count": null,
      "outputs": []
    },
    {
      "cell_type": "markdown",
      "source": [
        "#1. Análisis de facturación\n",
        "\n"
      ],
      "metadata": {
        "id": "X62IW3KFUIYm"
      }
    },
    {
      "cell_type": "code",
      "source": [],
      "metadata": {
        "id": "xykobSftV64I"
      },
      "execution_count": null,
      "outputs": []
    },
    {
      "cell_type": "code",
      "source": [],
      "metadata": {
        "id": "KDyr8E71V3m-"
      },
      "execution_count": null,
      "outputs": []
    },
    {
      "cell_type": "markdown",
      "source": [
        "# 2. Ventas por categoría"
      ],
      "metadata": {
        "id": "2V_vcAPzWZmR"
      }
    },
    {
      "cell_type": "code",
      "source": [],
      "metadata": {
        "id": "A34YupIuYhfF"
      },
      "execution_count": null,
      "outputs": []
    },
    {
      "cell_type": "code",
      "source": [],
      "metadata": {
        "id": "yZR6cOjXYSk1"
      },
      "execution_count": null,
      "outputs": []
    },
    {
      "cell_type": "markdown",
      "source": [
        "# 3. Calificación promedio de la tienda\n"
      ],
      "metadata": {
        "id": "Rq6tU_xSY3jk"
      }
    },
    {
      "cell_type": "code",
      "source": [],
      "metadata": {
        "id": "bh3jjjJwY5MU"
      },
      "execution_count": null,
      "outputs": []
    },
    {
      "cell_type": "code",
      "source": [],
      "metadata": {
        "id": "I0KkjPoTY88F"
      },
      "execution_count": null,
      "outputs": []
    },
    {
      "cell_type": "markdown",
      "source": [
        "# 4. Productos más y menos vendidos"
      ],
      "metadata": {
        "id": "DmNp1KPBZCm-"
      }
    },
    {
      "cell_type": "code",
      "source": [],
      "metadata": {
        "id": "qoyjqijQZHfF"
      },
      "execution_count": null,
      "outputs": []
    },
    {
      "cell_type": "code",
      "source": [],
      "metadata": {
        "id": "0Sw3sd4IZIGW"
      },
      "execution_count": null,
      "outputs": []
    },
    {
      "cell_type": "markdown",
      "source": [
        "# 5. Envío promedio por tienda"
      ],
      "metadata": {
        "id": "Fl0cGi3bZKqU"
      }
    },
    {
      "cell_type": "code",
      "source": [],
      "metadata": {
        "id": "S2JeaCykZNy9"
      },
      "execution_count": null,
      "outputs": []
    },
    {
      "cell_type": "code",
      "source": [],
      "metadata": {
        "id": "0tSdCie9ZQlt"
      },
      "execution_count": null,
      "outputs": []
    },
    {
      "cell_type": "markdown",
      "source": [
        "Código para control de versiones"
      ],
      "metadata": {
        "id": "6NWmJJpqAnlq"
      }
    }
  ]
}